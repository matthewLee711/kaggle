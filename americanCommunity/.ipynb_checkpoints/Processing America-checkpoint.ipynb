{
 "cells": [
  {
   "cell_type": "markdown",
   "metadata": {},
   "source": [
    "# Processing the American Community\n",
    "\n",
    "__Matthew Lee__"
   ]
  },
  {
   "cell_type": "markdown",
   "metadata": {},
   "source": [
    "# Introduction \n",
    "\n",
    "The American Community dataset is a survey conducted by the US Census Bureau in 2013 to provide reasearchers information about the US population. Laws and policies are developed to benefit the majority of citizens within the United States. Since developing policies require not only a very extensive amount of time and money to create (especially if it is not well recieved), decisions need to be made with upmost accuracy based on both seen and unseen trends. The consolidation of this information helps\n",
    "\n",
    "\n",
    "## Business Understanding \n",
    "\n",
    "### Data Info and Motivation\n",
    "\n",
    "In this dataset, there are 283 attributes for over 1.6 million rows (people surveyed); actually it is about 6.4 million if you consider there are four files. The objective of this analysis is to provide a good understanding of how much financial success Americans are having in the United States and determine whether or not more philanthropic policies should be geared towards them. Secondly, legal and illegal immigrants are a large discussion within current politics. Since there is a limited amount of funds that can be enacted toward policies, the second objective is to figure out whether lower income or immigrants deserve priority in terms of politics. For example, should policies towards the health care system or social security favor immigrants who are or are not citizens, yet show successful integration into society? These are the questions this analyses is looking to solve.\n",
    "\n",
    "### Financial Success of Immigrants \n",
    "\n",
    "The benefit of being born an American citizen allows that person to be directly integrated into society, thus allowing that person to understand social norms. Immigrants on the other hand, once they arrive in the United States, they have to integrate into society, which inheritantly gives them a slight disadvantage in terms of being able to compete for schools and job positions. In a sense, if an immigrant is able to successfully land into a good college, yet do not have the funds to go to the school, do they deserve to have priority in earning FAFSA money over an American born citizen? Success is a hard word to define, but the main analysis will use financial income as a determinant of success. The reasoning behind it is because jobs that have a high salary not only means the job is hard obtain, but the person has a higher ability at influencing the economy through his or her purchasing power. A country's gdp-to-citizen results in higher quality of life. In other words, a high circulation of money within an economy will boost quality of life. \n",
    "\n",
    "Choosing whether to fund an immigrant or US citizen for college on the basis of who will have the greatest impact to the US is a hard choice, but it can be inspected through analysis of the data provided by the US bureau. The ultimate goal is to figure out if the US government should focus on creating politics that are geared more beneficial towards immigrants with a high potential or US citizens.\n",
    "\n",
    "## Purpose of data\n",
    "\n",
    "Understanding the American populace is important to allow policy makers to create meaningful laws which will impact the US population the best. \n",
    "\n",
    "### Data Grade and Worth\n",
    "\n",
    "In order to figure out the potential of an immigrant or US citizen based on anonymous surveys, the most important value will be based on immigrant's and income after graduating college or currently in the work force. There are a lot values which can determine the success of a immigrant from one country in comparison to an immigrant from another country. Of course, there are variables which contribute to financial success, in which they will be examined. Considering the size of the dataset and 283 attributes, there is bound to be a correlation. The best way to value if a learning algorithm works is by seeing how correct the algorithm is in guessing the success of a person based on given inputs."
   ]
  },
  {
   "cell_type": "markdown",
   "metadata": {},
   "source": [
    "# Data Understanding\n",
    "[10 points] Describe the meaning and type of data (scale, values, etc.) for each attribute in the data file. \n",
    "\n",
    "Here are the definitions to important metrics that will be used for analysis:\n",
    "\n",
    "Nominal:(no order) ID numbers, eye color, zipcodes | distincness, = not equal (one hot encoded)\n",
    "Ordinal: rankings, grades, height | greater than (integer)\n",
    "Continuous:(floating), temperatures | plus minus (float)\n",
    "## Attribute Description\n",
    "__PINCP__ (ordinal) - Person's total income O\n",
    "\n",
    "__WAGP__ (ordinal) - Wage or salary in past 12 months O\n",
    "\n",
    "__SCHL__ (nominal) - Level of education N\n",
    "\n",
    "__ESR__ (nominal) - Employment state record N\n",
    "\n",
    "__CIT__ (nominal) - Citizenship status N\n",
    "           1 .Born in the U.S.\n",
    "           2 .Born in Puerto Rico, Guam, the U.S. Virgin Islands,\n",
    "             .or the Northern Marianas\n",
    "           3 .Born abroad of American parent(s)\n",
    "           4 .U.S. citizen by naturalization\n",
    "           5 .Not a citizen of the U.S.\n",
    "\n",
    "__AGEP__ (ordinal) - Age of person O\n",
    "\n",
    "__ST__ (nominal) - State Code N\n",
    "\n",
    "__MARHDP__ (nominal) - Divorced in past 12 months N\n",
    "\n",
    "__FMARHDP__ (nominal) - Divorced in past 12 months \n",
    "\n",
    "__MARHT__ (ordinal) - Number of times married O\n",
    "\n",
    "__WKL__ (nominal) - when last worked\n",
    "\n",
    "__FOD1P__ (nominal) - field of degree\n",
    "\n",
    "__LANP__ (nominal) - Language spoken at home\n",
    "\n",
    "__MIGPUMA__ - migration puma\n",
    "\n",
    "__MIGSP__ - Migration record: need to remove states\n",
    "\n",
    "__MSP__ (nominal) - Married, spouse present/spouse absent\n",
    "\n",
    "__NAICSP__ (nominal) - Job the individual has\n",
    "\n",
    "__NATIVITY__ (nominal) - Born in america or not in america \n",
    "\n",
    "__OC__ (nominal) - own child\n",
    "\n",
    "__POVIP__ (ordinal) - Poverty to income ratio (housing)\n",
    "\n",
    "__POWSP__ (nominal) - Place of work (state)\n",
    "\n",
    "__RAC1P__ (nominal) - Recorded detailed race code\n",
    "           1 .White alone                             \n",
    "           2 .Black or African American alone         \n",
    "           3 .American Indian alone                   \n",
    "           4 .Alaska Native alone                     \n",
    "           5 .American Indian and Alaska Native tribes specified; or American\n",
    "             .Indian or Alaska Native, not specified and no other races\n",
    "           6 .Asian alone                             \n",
    "           7 .Native Hawaiian and Other Pacific Islander alone\n",
    "           8 .Some Other Race alone                   \n",
    "           9 .Two or More Races \n",
    "__RAC3P__ (nominal) - Recorded detailed race code including europeans\n",
    "\n",
    "__ENG__ (nominal) - Ability to speak english b .N/A (less than 5 years old/speaks only English)\n",
    "           1 .Very well\n",
    "           2 .Well\n",
    "           3 .Not well\n",
    "           4 .Not at all"
   ]
  },
  {
   "cell_type": "markdown",
   "metadata": {},
   "source": [
    "# Data Preprocessing\n",
    "\n",
    "Time for data extraction and refinement!"
   ]
  },
  {
   "cell_type": "markdown",
   "metadata": {},
   "source": [
    "### Data Attribute Removal\n",
    "There are quite a few attributes that are not going to be used, so they will be removed."
   ]
  },
  {
   "cell_type": "code",
   "execution_count": null,
   "metadata": {
    "collapsed": false
   },
   "outputs": [],
   "source": [
    "# Import libraries for data modfication\n",
    "import pandas as pd\n",
    "import numpy as np\n",
    "\n",
    "# Load in all the data\n",
    "housingA = pd.read_csv(\"pums/ss13husa.csv\")\n",
    "#housingB = pd.read_csv(\"pums/ss13husb.csv\")\n",
    "individualsA = pd.read_csv(\"pums/ss13pusa.csv\")\n",
    "individualsB = pd.read_csv(\"pums/ss13pusb.csv\")\n",
    "\n",
    "# Combine seperate data into one data frame\n",
    "individualdfs = [individualsA, individualsB]\n",
    "individualdf = pd.concat(individualdfs)\n",
    "\n",
    "# Delete data attibutes that are not going to be used\n",
    "delete_columns_housing = ['']\n",
    "delete_columns_individuals = ['pwgtp1', 'pwgtp2', 'pwgtp3', 'pwgtp4', 'pwgtp5', 'pwgtp6', 'pwgtp7', 'pwgtp8', 'pwgtp9', 'pwgtp10',\n",
    "                    'pwgtp11', 'pwgtp12', 'pwgtp13', 'pwgtp14', 'pwgtp15', 'pwgtp16', 'pwgtp17', 'pwgtp18', 'pwgtp19', 'pwgtp20',\n",
    "                    'pwgtp21', 'pwgtp22', 'pwgtp23', 'pwgtp24', 'pwgtp25', 'pwgtp26', 'pwgtp27', 'pwgtp28', 'pwgtp29', 'pwgtp30',\n",
    "                    'pwgtp31', 'pwgtp32', 'pwgtp33', 'pwgtp34', 'pwgtp35', 'pwgtp36', 'pwgtp37', 'pwgtp38', 'pwgtp39', 'pwgtp40',\n",
    "                    'pwgtp41', 'pwgtp42', 'pwgtp43', 'pwgtp44', 'pwgtp45', 'pwgtp46', 'pwgtp47', 'pwgtp48', 'pwgtp49', 'pwgtp50',\n",
    "                    'pwgtp51', 'pwgtp52', 'pwgtp53', 'pwgtp54', 'pwgtp55', 'pwgtp56', 'pwgtp57', 'pwgtp58', 'pwgtp59', 'pwgtp60',\n",
    "                    'pwgtp61', 'pwgtp62', 'pwgtp63', 'pwgtp64', 'pwgtp65', 'pwgtp66', 'pwgtp67', 'pwgtp68', 'pwgtp69', 'pwgtp70',\n",
    "                    'pwgtp71', 'pwgtp72', 'pwgtp73', 'pwgtp74', 'pwgtp75', 'pwgtp76', 'pwgtp77', 'pwgtp78', 'pwgtp79', 'pwgtp80']\n",
    "\n",
    "# delete all columns from certain number?\n",
    "individualdf = individualdf.drop(delete_columns_individuals, 1)"
   ]
  },
  {
   "cell_type": "markdown",
   "metadata": {},
   "source": [
    "### Quality of Data and Feature Discretization\n",
    "\n",
    "The data attributes will be labeled as continuous, ordinal, or categorical. This will help identify invalid or missing data."
   ]
  },
  {
   "cell_type": "code",
   "execution_count": null,
   "metadata": {
    "collapsed": true
   },
   "outputs": [],
   "source": [
    "# Feature Discretization\n",
    "ordinal_features = ['PINCP', 'WAGP', 'MARHT', 'AGEP'] \n",
    "continuous_features = ['SCHL', 'ESR', 'CIT', 'WKL', 'MSP', 'NAICSP', 'POWSP', 'ST', 'RAC3P'] \n",
    "binary_features = ['FMARHDP', 'NATIVITY', 'OC'] \n",
    "categorical_features = individualdf.columns.difference(continuous_features).difference(ordinal_features)"
   ]
  },
  {
   "cell_type": "markdown",
   "metadata": {},
   "source": [
    "### Missing Information for Continuous Features\n",
    "Continuous feature columns missing information: POWSP (Place of work) and NAICSP (Job held by individual)\n",
    "POWSP has the value NaN filled in when the current individual is not working anywhere. NaN will be imputed with -1 to signify that the individual is not working and the data will not be ignored. NAICSP, similar to POWSP has NaN to signify that the individual is currently not employed. NaN will be imputed with -1 so the data will be given value. ESR (Employment state) does provide whether or not the individual is employed, this attribute will be used to check if the individual misinput the value for POWSP or NAICSP. Data with conflicting ESR and POWSP and NAICSP will be excluded from the dataset to provide better accuracy.\n"
   ]
  },
  {
   "cell_type": "code",
   "execution_count": null,
   "metadata": {
    "collapsed": true
   },
   "outputs": [],
   "source": [
    "# Impute NAICSP's and POWSP's NaN with -1\n",
    "individualdf = individualdf.replace(to_replace=np.nan,value=-1)\n",
    "# Check and remove data conflicts with ESR and POWSP and NAICSP\n",
    "# print individualdf.at[0, 'ESR']\n",
    "# for row in range(0, len(individualdf[nominal_features].axes[0]):\n",
    "#     if individualdf[nominal_features].iat[row, 1] != 3 and (individualdf[nominal_features].iat[row, 1] != -1] or individualdf[nominal_features].iat[row, 1] != -1):\n",
    "#         individualdf[nominal_features].drop(row)\n",
    "\n",
    "individualdf[continuous_features].describe()"
   ]
  },
  {
   "cell_type": "markdown",
   "metadata": {},
   "source": [
    "### Missing Information and Imputing for Ordinal Features\n",
    "Ordinal features were examined, NaN is present in these attributes ......"
   ]
  },
  {
   "cell_type": "code",
   "execution_count": null,
   "metadata": {
    "collapsed": true
   },
   "outputs": [],
   "source": [
    "individualdf[ordinal_features].describe()"
   ]
  },
  {
   "cell_type": "markdown",
   "metadata": {},
   "source": [
    "### Imputing for Continuous Features"
   ]
  },
  {
   "cell_type": "code",
   "execution_count": null,
   "metadata": {
    "collapsed": true
   },
   "outputs": [],
   "source": []
  },
  {
   "cell_type": "markdown",
   "metadata": {},
   "source": [
    "### Missing Information and Imputing for Categorical Features\n",
    "In attributes ...... NaN is present, "
   ]
  },
  {
   "cell_type": "code",
   "execution_count": null,
   "metadata": {
    "collapsed": true
   },
   "outputs": [],
   "source": [
    "individualdf[categorical_features].describe()"
   ]
  },
  {
   "cell_type": "markdown",
   "metadata": {},
   "source": [
    "### Imputing for Categorical Features"
   ]
  },
  {
   "cell_type": "markdown",
   "metadata": {
    "collapsed": true
   },
   "source": [
    "### Missing Information and Imputing for Binary Features\n",
    "There were surprisingly no "
   ]
  },
  {
   "cell_type": "code",
   "execution_count": null,
   "metadata": {
    "collapsed": true
   },
   "outputs": [],
   "source": []
  },
  {
   "cell_type": "code",
   "execution_count": null,
   "metadata": {
    "collapsed": true
   },
   "outputs": [],
   "source": [
    "# Setting the data attributes to the correct types\n",
    "individualdf[continuous_features] = individualdf[continuous_features].astype(np.float64)\n",
    "individualdf[ordinal_features] = individualdf[ordinal_features].astype(np.int64)\n",
    "individualdf[binary_features] = individualdf[binary_features].astype(np.int8)"
   ]
  },
  {
   "cell_type": "markdown",
   "metadata": {},
   "source": [
    "# Feature Discretization\n",
    "Process of converting or partitioning continuous attributes, features or variables to discretized or nominal attributes/features/variables/intervals"
   ]
  },
  {
   "cell_type": "markdown",
   "metadata": {},
   "source": [
    "# Inclination of Data\n",
    "\n",
    "Majority of the data attributes are chosen under the purpose to extract individuals who recently came to America. The problem with relying on one attribute such as nativity is not enough. Individuals can choose to not reveal the fact they were born in american because of fear of being deported regardless of anonymity. Instead, combining Nativity, MIGSP, and MIGPUMA will establish a dataset of individuals who came to America. All the other attributes, contribute to developing a consensus of whether coming to America is worth it.\n",
    "\n",
    "# Analysis of Nato\n",
    "\n",
    "Nato created a dataset which values the economic strength of different countries. Information from data attributes (\"\"\"\"\"\"\"\") will determine the poverty-to-income. Life in immigrants vs life in previous state. Since the data is anonymized, determining -- we will look at correlation. High immigration rate from specific countries.\n",
    "\n",
    "\n",
    "\n",
    "\n",
    "\n"
   ]
  },
  {
   "cell_type": "markdown",
   "metadata": {},
   "source": [
    "# Data Visualization"
   ]
  },
  {
   "cell_type": "code",
   "execution_count": null,
   "metadata": {
    "collapsed": true
   },
   "outputs": [],
   "source": [
    "# Setup Seaborn \n",
    "import seaborn as sns\n",
    "sns.set_palette('muted')\n",
    "\n",
    "# Setup plotly\n",
    "import plotly\n",
    "plotly.offline.init_notebook_mode() \n",
    "\n",
    "# Setup matplotlib\n",
    "import matplotlib.pyplot as plt\n",
    "\n",
    "# Embed figures into Notebook\n",
    "%matplotlib inline\n",
    "\n",
    "# Use GGPlot style for matplotlib\n",
    "plt.style.use('ggplot')"
   ]
  },
  {
   "cell_type": "markdown",
   "metadata": {},
   "source": [
    "## General Population"
   ]
  },
  {
   "cell_type": "markdown",
   "metadata": {
    "collapsed": true
   },
   "source": [
    "### Distribution of Income\n",
    "Income is a very important attribute because it defines the financial stability and success of a person. "
   ]
  },
  {
   "cell_type": "code",
   "execution_count": null,
   "metadata": {
    "collapsed": true
   },
   "outputs": [],
   "source": [
    "print(\"Mean Income of all US citizens: \" + str(individualdf['PINCP'].mean()))\n",
    "print(\"Median Income of all US citizens: \" + str(individualdf['PINCP'].median()))\n",
    "\n",
    "individualdf['PINCP'].plot(kind='box', ylim=[-20, 120000], title = \"Income\")"
   ]
  },
  {
   "cell_type": "markdown",
   "metadata": {},
   "source": [
    "This box plot shows the distribution of income in 2013. What's really interesting about the graph is that the US Census Bureau claims the average income is 52,250. However, based on taking a simple mean and median, the income distribution is skewed by a huge margin of 20000. Considering the number of people taken from this survey, it seems as if only people from the low income bracket (47,248) took the survey. This proves to be a formitable issue in the analysis of this dataset because this is biased towards middle and upper class. Upper class data does not even exist.\n",
    "\n",
    "College degree income average\n",
    "\n",
    "Income vs out of america\n",
    "\n",
    "Income vs American"
   ]
  },
  {
   "cell_type": "markdown",
   "metadata": {},
   "source": [
    "### Demographics\n",
    "\n",
    "Some of the data attributes are chosen under the purpose to extract individuals who recently came to America. The problem with relying on one attribute such as NATIVITY (born in US) is not enough. Individuals can choose to not reveal the fact they were born in american because of fear of being deported regardless of anonymity. Instead, combining Nativity, MIGSP, and MIGPUMA will establish a dataset of individuals who came to America. All the other attributes, contribute to developing a consensus of whether coming to America is worth it."
   ]
  },
  {
   "cell_type": "code",
   "execution_count": null,
   "metadata": {
    "collapsed": true
   },
   "outputs": [],
   "source": [
    "individualdf.groupby(\"NATIVITY\").OC.count().sort_values().plot(kind='barh', title = \"Born in America\")"
   ]
  },
  {
   "cell_type": "markdown",
   "metadata": {},
   "source": [
    "There are about 2.75 million American born citzens and 350,000 immigrants."
   ]
  },
  {
   "cell_type": "code",
   "execution_count": null,
   "metadata": {
    "collapsed": true
   },
   "outputs": [],
   "source": [
    "individualdf.groupby(\"OC\").OC.count().sort_values().plot(kind='barh', title = \"Child and don't down children\")"
   ]
  },
  {
   "cell_type": "markdown",
   "metadata": {},
   "source": [
    "About 2.5 million have children, while a little over 500,000 do not."
   ]
  },
  {
   "cell_type": "code",
   "execution_count": null,
   "metadata": {
    "collapsed": true
   },
   "outputs": [],
   "source": [
    "individualdf.groupby(\"ESR\").OC.count().sort_values().plot(kind='barh', title = \"Employment Status\")"
   ]
  },
  {
   "cell_type": "markdown",
   "metadata": {},
   "source": [
    "-1 .N/A (less than 16 years old)                     \n",
    "1 .Civilian employed, at work                        \n",
    "2 .Civilian employed, with a job but not at work     \n",
    "3 .Unemployed                                          \n",
    "4 .Armed forces, at work\n",
    "5 .Armed forces, with a job but not at work\n",
    "6 .Not in labor force"
   ]
  },
  {
   "cell_type": "markdown",
   "metadata": {},
   "source": [
    "The reason why the data skewed is not because of low income bracket, but because the total number of people not in the labor force and less than 16 years old well exceeds the number of people who are in work force. People not in the labor force may include: elderly, stay home moms, or those who are disabled."
   ]
  },
  {
   "cell_type": "code",
   "execution_count": null,
   "metadata": {
    "collapsed": true
   },
   "outputs": [],
   "source": [
    "ax = plt.axes()\n",
    "sns.distplot(individualdf['RAC3P'])\n",
    "\n",
    "ax.set_title('Distribution of Race (General)')\n",
    "plt.show()"
   ]
  },
  {
   "cell_type": "markdown",
   "metadata": {},
   "source": [
    "## Immigration Population"
   ]
  },
  {
   "cell_type": "code",
   "execution_count": null,
   "metadata": {
    "collapsed": true
   },
   "outputs": [],
   "source": [
    "# Create dataset for immigrants\n",
    "count = 0\n",
    "immigrantdf = individualdf\n",
    "immigrantdf = immigrantdf[immigrantdf.NATIVITY != 3]\n",
    "immigrantdf = immigrantdf[immigrantdf.NATIVITY <= 109]"
   ]
  },
  {
   "cell_type": "markdown",
   "metadata": {},
   "source": [
    "Immigrants make up "
   ]
  },
  {
   "cell_type": "code",
   "execution_count": null,
   "metadata": {
    "collapsed": true
   },
   "outputs": [],
   "source": [
    "immigrantdf.groupby(\"OC\").OC.count().sort_values().plot(kind='barh', title = \"Child and don't down children\")"
   ]
  },
  {
   "cell_type": "code",
   "execution_count": null,
   "metadata": {
    "collapsed": true
   },
   "outputs": [],
   "source": [
    "immigrantdf.groupby(\"ESR\").OC.count().sort_values().plot(kind='barh', title = \"Employment Status\")"
   ]
  },
  {
   "cell_type": "code",
   "execution_count": null,
   "metadata": {
    "collapsed": true
   },
   "outputs": [],
   "source": [
    "print(\"Mean Income of all US citizens: \" + str(immigrantdf['PINCP'].mean()))\n",
    "print(\"Median Income of all US citizens: \" + str(immigrantdf['PINCP'].median()))\n",
    "\n",
    "immigrantdf['PINCP'].plot(kind='box', ylim=[-20, 120000], title = \"Income\")"
   ]
  },
  {
   "cell_type": "code",
   "execution_count": null,
   "metadata": {
    "collapsed": true
   },
   "outputs": [],
   "source": [
    "ax = plt.axes()\n",
    "sns.distplot(individualdf['RAC3P'])\n",
    "\n",
    "ax.set_title('Distribution of Race (Immigrants)')\n",
    "plt.show()"
   ]
  },
  {
   "cell_type": "markdown",
   "metadata": {},
   "source": [
    "Distribution of immigrants"
   ]
  },
  {
   "cell_type": "markdown",
   "metadata": {},
   "source": [
    "# Dimensionality Reduction\n",
    "implement dimensionality reduction, then visualize and interpret the results. \n",
    "\n",
    "Kernal PCA\n"
   ]
  },
  {
   "cell_type": "code",
   "execution_count": null,
   "metadata": {
    "collapsed": true
   },
   "outputs": [],
   "source": []
  }
 ],
 "metadata": {
  "kernelspec": {
   "display_name": "Python 2",
   "language": "python",
   "name": "python2"
  },
  "language_info": {
   "codemirror_mode": {
    "name": "ipython",
    "version": 2
   },
   "file_extension": ".py",
   "mimetype": "text/x-python",
   "name": "python",
   "nbconvert_exporter": "python",
   "pygments_lexer": "ipython2",
   "version": "2.7.11"
  }
 },
 "nbformat": 4,
 "nbformat_minor": 0
}
